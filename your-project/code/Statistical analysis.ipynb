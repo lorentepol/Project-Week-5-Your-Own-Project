{
 "cells": [
  {
   "cell_type": "code",
   "execution_count": 1,
   "metadata": {},
   "outputs": [],
   "source": [
    "import pandas as pd\n",
    "import scipy.stats as spicy\n",
    "import numpy as np\n",
    "from datetime import datetime as dt\n",
    "import matplotlib.pyplot as plt\n",
    "import seaborn as sns"
   ]
  },
  {
   "cell_type": "code",
   "execution_count": 2,
   "metadata": {},
   "outputs": [],
   "source": [
    "# import necessary dataframes:\n",
    "\n",
    "days = pd.read_csv('../data/dates_periods.csv', sep=';', decimal=',', index_col=0)\n",
    "youtube = pd.read_csv('../data/youtube_by_day.csv', sep=';', decimal=',', index_col=0)\n",
    "exercise = pd.read_csv('../data/exercise_summary_day.csv', sep=';', decimal=',', index_col=0)"
   ]
  },
  {
   "cell_type": "code",
   "execution_count": 3,
   "metadata": {},
   "outputs": [],
   "source": [
    "# change format of the date\n",
    "\n",
    "days['date'] = days['date'].apply(lambda x: dt.strptime(x, '%d/%m/%Y')).apply(lambda y: dt.strftime(y,'%Y-%m-%d'))"
   ]
  },
  {
   "cell_type": "code",
   "execution_count": 4,
   "metadata": {},
   "outputs": [
    {
     "data": {
      "text/plain": [
       "'2014-08-13'"
      ]
     },
     "execution_count": 4,
     "metadata": {},
     "output_type": "execute_result"
    }
   ],
   "source": [
    "days['date'][0]\n",
    "\n",
    "\n",
    "youtube['date'][0]"
   ]
  },
  {
   "cell_type": "code",
   "execution_count": 5,
   "metadata": {},
   "outputs": [
    {
     "data": {
      "text/html": [
       "<div>\n",
       "<style scoped>\n",
       "    .dataframe tbody tr th:only-of-type {\n",
       "        vertical-align: middle;\n",
       "    }\n",
       "\n",
       "    .dataframe tbody tr th {\n",
       "        vertical-align: top;\n",
       "    }\n",
       "\n",
       "    .dataframe thead th {\n",
       "        text-align: right;\n",
       "    }\n",
       "</style>\n",
       "<table border=\"1\" class=\"dataframe\">\n",
       "  <thead>\n",
       "    <tr style=\"text-align: right;\">\n",
       "      <th></th>\n",
       "      <th>date</th>\n",
       "      <th>period</th>\n",
       "      <th>Searched</th>\n",
       "      <th>Watched</th>\n",
       "      <th>distance</th>\n",
       "      <th>flightsClimbed</th>\n",
       "      <th>steps</th>\n",
       "      <th>durationDistance</th>\n",
       "      <th>durationFlights</th>\n",
       "      <th>durationSteps</th>\n",
       "    </tr>\n",
       "  </thead>\n",
       "  <tbody>\n",
       "    <tr>\n",
       "      <th>0</th>\n",
       "      <td>2017-10-28</td>\n",
       "      <td>1st Period</td>\n",
       "      <td>4.0</td>\n",
       "      <td>4.0</td>\n",
       "      <td>0.095790</td>\n",
       "      <td>NaN</td>\n",
       "      <td>132.0</td>\n",
       "      <td>0 days 00:24:15.000000000</td>\n",
       "      <td>NaN</td>\n",
       "      <td>0 days 00:24:15.000000000</td>\n",
       "    </tr>\n",
       "    <tr>\n",
       "      <th>1</th>\n",
       "      <td>2017-10-29</td>\n",
       "      <td>1st Period</td>\n",
       "      <td>3.0</td>\n",
       "      <td>8.0</td>\n",
       "      <td>3.127187</td>\n",
       "      <td>14.0</td>\n",
       "      <td>4732.0</td>\n",
       "      <td>0 days 05:34:01.000000000</td>\n",
       "      <td>0 days 00:00:00.000000000</td>\n",
       "      <td>0 days 05:34:01.000000000</td>\n",
       "    </tr>\n",
       "    <tr>\n",
       "      <th>2</th>\n",
       "      <td>2017-10-30</td>\n",
       "      <td>1st Period</td>\n",
       "      <td>NaN</td>\n",
       "      <td>12.0</td>\n",
       "      <td>5.474378</td>\n",
       "      <td>7.0</td>\n",
       "      <td>7518.0</td>\n",
       "      <td>0 days 06:01:36.000000000</td>\n",
       "      <td>0 days 00:00:00.000000000</td>\n",
       "      <td>0 days 06:01:36.000000000</td>\n",
       "    </tr>\n",
       "    <tr>\n",
       "      <th>3</th>\n",
       "      <td>2017-10-31</td>\n",
       "      <td>1st Period</td>\n",
       "      <td>5.0</td>\n",
       "      <td>32.0</td>\n",
       "      <td>2.109710</td>\n",
       "      <td>3.0</td>\n",
       "      <td>3123.0</td>\n",
       "      <td>0 days 05:23:53.000000000</td>\n",
       "      <td>0 days 00:00:00.000000000</td>\n",
       "      <td>0 days 05:23:53.000000000</td>\n",
       "    </tr>\n",
       "    <tr>\n",
       "      <th>4</th>\n",
       "      <td>2017-11-01</td>\n",
       "      <td>1st Period</td>\n",
       "      <td>3.0</td>\n",
       "      <td>11.0</td>\n",
       "      <td>4.161810</td>\n",
       "      <td>5.0</td>\n",
       "      <td>6559.0</td>\n",
       "      <td>0 days 05:50:59.000000000</td>\n",
       "      <td>0 days 00:00:00.000000000</td>\n",
       "      <td>0 days 05:50:59.000000000</td>\n",
       "    </tr>\n",
       "  </tbody>\n",
       "</table>\n",
       "</div>"
      ],
      "text/plain": [
       "         date      period  Searched  Watched  distance  flightsClimbed  \\\n",
       "0  2017-10-28  1st Period       4.0      4.0  0.095790             NaN   \n",
       "1  2017-10-29  1st Period       3.0      8.0  3.127187            14.0   \n",
       "2  2017-10-30  1st Period       NaN     12.0  5.474378             7.0   \n",
       "3  2017-10-31  1st Period       5.0     32.0  2.109710             3.0   \n",
       "4  2017-11-01  1st Period       3.0     11.0  4.161810             5.0   \n",
       "\n",
       "    steps           durationDistance            durationFlights  \\\n",
       "0   132.0  0 days 00:24:15.000000000                        NaN   \n",
       "1  4732.0  0 days 05:34:01.000000000  0 days 00:00:00.000000000   \n",
       "2  7518.0  0 days 06:01:36.000000000  0 days 00:00:00.000000000   \n",
       "3  3123.0  0 days 05:23:53.000000000  0 days 00:00:00.000000000   \n",
       "4  6559.0  0 days 05:50:59.000000000  0 days 00:00:00.000000000   \n",
       "\n",
       "               durationSteps  \n",
       "0  0 days 00:24:15.000000000  \n",
       "1  0 days 05:34:01.000000000  \n",
       "2  0 days 06:01:36.000000000  \n",
       "3  0 days 05:23:53.000000000  \n",
       "4  0 days 05:50:59.000000000  "
      ]
     },
     "execution_count": 5,
     "metadata": {},
     "output_type": "execute_result"
    }
   ],
   "source": [
    "# merge all 3 in a leftjoin\n",
    "\n",
    "# 1st step\n",
    "\n",
    "merged = days.merge(youtube,how = 'left', on='date').merge(exercise,how='left', on='date')\n",
    "merged.head()"
   ]
  },
  {
   "cell_type": "code",
   "execution_count": 6,
   "metadata": {},
   "outputs": [],
   "source": [
    "# now let's find the weekday and weekends equivalent in order to have the appropriate filter\n",
    "\n",
    "# convert the column date into a datetime series\n",
    "merged['date'] = merged['date'].apply(lambda x: dt.strptime(x, '%Y-%m-%d'))"
   ]
  },
  {
   "cell_type": "code",
   "execution_count": 7,
   "metadata": {},
   "outputs": [],
   "source": [
    "# define a function to get the day of the week an classify it in labour or weekend\n",
    "\n",
    "def labour_weekend(date):\n",
    "    weekday = date.weekday()\n",
    "    if weekday in range(5):\n",
    "        return 'labour'\n",
    "    else:\n",
    "        return 'weekend'"
   ]
  },
  {
   "cell_type": "code",
   "execution_count": 8,
   "metadata": {},
   "outputs": [
    {
     "data": {
      "text/html": [
       "<div>\n",
       "<style scoped>\n",
       "    .dataframe tbody tr th:only-of-type {\n",
       "        vertical-align: middle;\n",
       "    }\n",
       "\n",
       "    .dataframe tbody tr th {\n",
       "        vertical-align: top;\n",
       "    }\n",
       "\n",
       "    .dataframe thead th {\n",
       "        text-align: right;\n",
       "    }\n",
       "</style>\n",
       "<table border=\"1\" class=\"dataframe\">\n",
       "  <thead>\n",
       "    <tr style=\"text-align: right;\">\n",
       "      <th></th>\n",
       "      <th>date</th>\n",
       "      <th>period</th>\n",
       "      <th>Searched</th>\n",
       "      <th>Watched</th>\n",
       "      <th>distance</th>\n",
       "      <th>flightsClimbed</th>\n",
       "      <th>steps</th>\n",
       "      <th>durationDistance</th>\n",
       "      <th>durationFlights</th>\n",
       "      <th>durationSteps</th>\n",
       "      <th>weekday</th>\n",
       "      <th>distance_per_step</th>\n",
       "    </tr>\n",
       "  </thead>\n",
       "  <tbody>\n",
       "    <tr>\n",
       "      <th>0</th>\n",
       "      <td>2017-10-28</td>\n",
       "      <td>1st Period</td>\n",
       "      <td>4.0</td>\n",
       "      <td>4.0</td>\n",
       "      <td>0.095790</td>\n",
       "      <td>NaN</td>\n",
       "      <td>132.0</td>\n",
       "      <td>0 days 00:24:15.000000000</td>\n",
       "      <td>NaN</td>\n",
       "      <td>0 days 00:24:15.000000000</td>\n",
       "      <td>weekend</td>\n",
       "      <td>0.725682</td>\n",
       "    </tr>\n",
       "    <tr>\n",
       "      <th>1</th>\n",
       "      <td>2017-10-29</td>\n",
       "      <td>1st Period</td>\n",
       "      <td>3.0</td>\n",
       "      <td>8.0</td>\n",
       "      <td>3.127187</td>\n",
       "      <td>14.0</td>\n",
       "      <td>4732.0</td>\n",
       "      <td>0 days 05:34:01.000000000</td>\n",
       "      <td>0 days 00:00:00.000000000</td>\n",
       "      <td>0 days 05:34:01.000000000</td>\n",
       "      <td>weekend</td>\n",
       "      <td>0.660859</td>\n",
       "    </tr>\n",
       "    <tr>\n",
       "      <th>2</th>\n",
       "      <td>2017-10-30</td>\n",
       "      <td>1st Period</td>\n",
       "      <td>NaN</td>\n",
       "      <td>12.0</td>\n",
       "      <td>5.474378</td>\n",
       "      <td>7.0</td>\n",
       "      <td>7518.0</td>\n",
       "      <td>0 days 06:01:36.000000000</td>\n",
       "      <td>0 days 00:00:00.000000000</td>\n",
       "      <td>0 days 06:01:36.000000000</td>\n",
       "      <td>labour</td>\n",
       "      <td>0.728169</td>\n",
       "    </tr>\n",
       "    <tr>\n",
       "      <th>3</th>\n",
       "      <td>2017-10-31</td>\n",
       "      <td>1st Period</td>\n",
       "      <td>5.0</td>\n",
       "      <td>32.0</td>\n",
       "      <td>2.109710</td>\n",
       "      <td>3.0</td>\n",
       "      <td>3123.0</td>\n",
       "      <td>0 days 05:23:53.000000000</td>\n",
       "      <td>0 days 00:00:00.000000000</td>\n",
       "      <td>0 days 05:23:53.000000000</td>\n",
       "      <td>labour</td>\n",
       "      <td>0.675540</td>\n",
       "    </tr>\n",
       "    <tr>\n",
       "      <th>4</th>\n",
       "      <td>2017-11-01</td>\n",
       "      <td>1st Period</td>\n",
       "      <td>3.0</td>\n",
       "      <td>11.0</td>\n",
       "      <td>4.161810</td>\n",
       "      <td>5.0</td>\n",
       "      <td>6559.0</td>\n",
       "      <td>0 days 05:50:59.000000000</td>\n",
       "      <td>0 days 00:00:00.000000000</td>\n",
       "      <td>0 days 05:50:59.000000000</td>\n",
       "      <td>labour</td>\n",
       "      <td>0.634519</td>\n",
       "    </tr>\n",
       "    <tr>\n",
       "      <th>...</th>\n",
       "      <td>...</td>\n",
       "      <td>...</td>\n",
       "      <td>...</td>\n",
       "      <td>...</td>\n",
       "      <td>...</td>\n",
       "      <td>...</td>\n",
       "      <td>...</td>\n",
       "      <td>...</td>\n",
       "      <td>...</td>\n",
       "      <td>...</td>\n",
       "      <td>...</td>\n",
       "      <td>...</td>\n",
       "    </tr>\n",
       "    <tr>\n",
       "      <th>994</th>\n",
       "      <td>2020-07-18</td>\n",
       "      <td>3rd Period</td>\n",
       "      <td>1.0</td>\n",
       "      <td>4.0</td>\n",
       "      <td>12.223508</td>\n",
       "      <td>72.0</td>\n",
       "      <td>16453.0</td>\n",
       "      <td>0 days 05:44:05.000000000</td>\n",
       "      <td>0 days 01:06:49.000000000</td>\n",
       "      <td>0 days 05:44:05.000000000</td>\n",
       "      <td>weekend</td>\n",
       "      <td>0.742935</td>\n",
       "    </tr>\n",
       "    <tr>\n",
       "      <th>995</th>\n",
       "      <td>2020-07-19</td>\n",
       "      <td>3rd Period</td>\n",
       "      <td>NaN</td>\n",
       "      <td>NaN</td>\n",
       "      <td>11.743420</td>\n",
       "      <td>67.0</td>\n",
       "      <td>15153.0</td>\n",
       "      <td>0 days 03:19:27.000000000</td>\n",
       "      <td>0 days 01:01:56.000000000</td>\n",
       "      <td>0 days 03:21:28.000000000</td>\n",
       "      <td>weekend</td>\n",
       "      <td>0.774990</td>\n",
       "    </tr>\n",
       "    <tr>\n",
       "      <th>996</th>\n",
       "      <td>2020-07-20</td>\n",
       "      <td>3rd Period</td>\n",
       "      <td>1.0</td>\n",
       "      <td>4.0</td>\n",
       "      <td>5.441970</td>\n",
       "      <td>7.0</td>\n",
       "      <td>7648.0</td>\n",
       "      <td>0 days 02:06:35.000000000</td>\n",
       "      <td>0 days 00:06:26.000000000</td>\n",
       "      <td>0 days 02:06:35.000000000</td>\n",
       "      <td>labour</td>\n",
       "      <td>0.711555</td>\n",
       "    </tr>\n",
       "    <tr>\n",
       "      <th>997</th>\n",
       "      <td>2020-07-21</td>\n",
       "      <td>3rd Period</td>\n",
       "      <td>17.0</td>\n",
       "      <td>24.0</td>\n",
       "      <td>2.692950</td>\n",
       "      <td>5.0</td>\n",
       "      <td>4146.0</td>\n",
       "      <td>0 days 02:20:05.000000000</td>\n",
       "      <td>0 days 00:01:21.000000000</td>\n",
       "      <td>0 days 02:20:05.000000000</td>\n",
       "      <td>labour</td>\n",
       "      <td>0.649530</td>\n",
       "    </tr>\n",
       "    <tr>\n",
       "      <th>998</th>\n",
       "      <td>2020-07-22</td>\n",
       "      <td>3rd Period</td>\n",
       "      <td>19.0</td>\n",
       "      <td>22.0</td>\n",
       "      <td>1.555360</td>\n",
       "      <td>1.0</td>\n",
       "      <td>2264.0</td>\n",
       "      <td>0 days 01:19:20.000000000</td>\n",
       "      <td>0 days 00:00:02.000000000</td>\n",
       "      <td>0 days 01:19:20.000000000</td>\n",
       "      <td>labour</td>\n",
       "      <td>0.686996</td>\n",
       "    </tr>\n",
       "  </tbody>\n",
       "</table>\n",
       "<p>999 rows × 12 columns</p>\n",
       "</div>"
      ],
      "text/plain": [
       "          date      period  Searched  Watched   distance  flightsClimbed  \\\n",
       "0   2017-10-28  1st Period       4.0      4.0   0.095790             NaN   \n",
       "1   2017-10-29  1st Period       3.0      8.0   3.127187            14.0   \n",
       "2   2017-10-30  1st Period       NaN     12.0   5.474378             7.0   \n",
       "3   2017-10-31  1st Period       5.0     32.0   2.109710             3.0   \n",
       "4   2017-11-01  1st Period       3.0     11.0   4.161810             5.0   \n",
       "..         ...         ...       ...      ...        ...             ...   \n",
       "994 2020-07-18  3rd Period       1.0      4.0  12.223508            72.0   \n",
       "995 2020-07-19  3rd Period       NaN      NaN  11.743420            67.0   \n",
       "996 2020-07-20  3rd Period       1.0      4.0   5.441970             7.0   \n",
       "997 2020-07-21  3rd Period      17.0     24.0   2.692950             5.0   \n",
       "998 2020-07-22  3rd Period      19.0     22.0   1.555360             1.0   \n",
       "\n",
       "       steps           durationDistance            durationFlights  \\\n",
       "0      132.0  0 days 00:24:15.000000000                        NaN   \n",
       "1     4732.0  0 days 05:34:01.000000000  0 days 00:00:00.000000000   \n",
       "2     7518.0  0 days 06:01:36.000000000  0 days 00:00:00.000000000   \n",
       "3     3123.0  0 days 05:23:53.000000000  0 days 00:00:00.000000000   \n",
       "4     6559.0  0 days 05:50:59.000000000  0 days 00:00:00.000000000   \n",
       "..       ...                        ...                        ...   \n",
       "994  16453.0  0 days 05:44:05.000000000  0 days 01:06:49.000000000   \n",
       "995  15153.0  0 days 03:19:27.000000000  0 days 01:01:56.000000000   \n",
       "996   7648.0  0 days 02:06:35.000000000  0 days 00:06:26.000000000   \n",
       "997   4146.0  0 days 02:20:05.000000000  0 days 00:01:21.000000000   \n",
       "998   2264.0  0 days 01:19:20.000000000  0 days 00:00:02.000000000   \n",
       "\n",
       "                 durationSteps  weekday  distance_per_step  \n",
       "0    0 days 00:24:15.000000000  weekend           0.725682  \n",
       "1    0 days 05:34:01.000000000  weekend           0.660859  \n",
       "2    0 days 06:01:36.000000000   labour           0.728169  \n",
       "3    0 days 05:23:53.000000000   labour           0.675540  \n",
       "4    0 days 05:50:59.000000000   labour           0.634519  \n",
       "..                         ...      ...                ...  \n",
       "994  0 days 05:44:05.000000000  weekend           0.742935  \n",
       "995  0 days 03:21:28.000000000  weekend           0.774990  \n",
       "996  0 days 02:06:35.000000000   labour           0.711555  \n",
       "997  0 days 02:20:05.000000000   labour           0.649530  \n",
       "998  0 days 01:19:20.000000000   labour           0.686996  \n",
       "\n",
       "[999 rows x 12 columns]"
      ]
     },
     "execution_count": 8,
     "metadata": {},
     "output_type": "execute_result"
    }
   ],
   "source": [
    "# apply the previous function to the date column and save it as a new column\n",
    "\n",
    "merged['weekday'] = merged['date'].apply(labour_weekend)\n",
    "merged['distance_per_step'] = merged['distance']/merged['steps'] * 1000\n",
    "merged"
   ]
  },
  {
   "cell_type": "code",
   "execution_count": 9,
   "metadata": {},
   "outputs": [],
   "source": [
    "# let's create the slices to make samples:\n",
    "\n",
    "first_labour = merged[(merged['period'] == '1st Period') & (merged['weekday'] == 'labour')]\n",
    "first_weekend = merged[(merged['period'] == '1st Period') & (merged['weekday'] == 'weekend')]\n",
    "second_labour = merged[(merged['period'] == '2nd Period') & (merged['weekday'] == 'labour')]\n",
    "second_weekend = merged[(merged['period'] == '2nd Period') & (merged['weekday'] == 'weekend')]\n",
    "third_labour = merged[(merged['period'] == '3rd Period') & (merged['weekday'] == 'labour')]\n",
    "third_weekend = merged[(merged['period'] == '3rd Period') & (merged['weekday'] == 'weekend')]"
   ]
  },
  {
   "cell_type": "code",
   "execution_count": 10,
   "metadata": {},
   "outputs": [
    {
     "name": "stdout",
     "output_type": "stream",
     "text": [
      "Ttest_indResult(statistic=masked_array(data=[-7.905926889011593, 7.5592857256924395,\n",
      "                   10.439517714796457],\n",
      "             mask=[False, False, False],\n",
      "       fill_value=1e+20), pvalue=masked_array(data=[2.92187274e-14, 2.12364574e-13, 1.04491228e-23],\n",
      "             mask=False,\n",
      "       fill_value=1e+20))\n"
     ]
    },
    {
     "data": {
      "text/plain": [
       "'both p-values are incredibly small which means that the mean for distance walked and videos watched differ from weekday to weekend'"
      ]
     },
     "execution_count": 10,
     "metadata": {},
     "output_type": "execute_result"
    }
   ],
   "source": [
    "# 1st analysis: check if the mean of videos watched, and distance walked differ from labour days to weekend:\n",
    "\n",
    "sample_labour = merged[merged['weekday'] == 'labour'][['distance', 'distance_per_step', 'Watched']]\n",
    "sample_weekend  = merged[merged['weekday']== 'weekend'][['distance','distance_per_step', 'Watched']]\n",
    "\n",
    "result = spicy.ttest_ind(sample_labour, sample_weekend, equal_var=False,  nan_policy = 'omit')\n",
    "\n",
    "print(result)\n",
    "\n",
    "'''both p-values are incredibly small which means that the mean for distance walked and videos watched differ from weekday to weekend'''"
   ]
  },
  {
   "cell_type": "code",
   "execution_count": 11,
   "metadata": {},
   "outputs": [
    {
     "name": "stdout",
     "output_type": "stream",
     "text": [
      "0.6619396808157856\n",
      "0.642574989504966\n",
      "0.03397642535294992\n",
      "0.036753029714808705\n",
      "692\n",
      "276\n",
      "2.1236457430949996e-13\n"
     ]
    }
   ],
   "source": [
    "result = spicy.ttest_ind(sample_labour['distance_per_step'], sample_weekend['distance_per_step'], equal_var=False, nan_policy = 'omit')\n",
    "\n",
    "print(np.mean(sample_labour['distance_per_step']))\n",
    "print(np.mean(sample_weekend['distance_per_step']))\n",
    "print(np.std(sample_labour['distance_per_step'],ddof=1))\n",
    "print(np.std(sample_weekend['distance_per_step'],ddof=1))\n",
    "\n",
    "print(len(sample_labour[sample_labour['distance_per_step'].notnull()]))\n",
    "print(len(sample_weekend[sample_weekend['distance_per_step'].notnull()]))\n",
    "print(result.pvalue)\n"
   ]
  },
  {
   "cell_type": "code",
   "execution_count": 12,
   "metadata": {},
   "outputs": [
    {
     "data": {
      "image/png": "[encoded data removed]",
      "text/plain": [
       "<Figure size 1080x720 with 3 Axes>"
      ]
     },
     "metadata": {
      "needs_background": "light"
     },
     "output_type": "display_data"
    }
   ],
   "source": [
    "# let's plot the graphic\n",
    "\n",
    "fig,ax = plt.subplots(1,3, figsize = (15,10))\n",
    "\n",
    "ax[0].bar(['Labour', 'Weekend'], [np.mean(sample_labour['distance']), np.mean(sample_weekend['distance'])])\n",
    "ax[0].set_title('Distance Walked')\n",
    "ax[0].set_ylabel('Distance daily mean (km)')\n",
    "ax[1].bar(['Labour', 'Weekend'], [np.mean(sample_labour['distance_per_step']), np.mean(sample_weekend['distance_per_step'])])\n",
    "ax[1].set_title('Length of step')\n",
    "ax[1].set_ylabel('Average length of step (m)')\n",
    "ax[2].bar(['Labour', 'Weekend'], [np.mean(sample_labour['Watched']), np.mean(sample_weekend['Watched'])])\n",
    "ax[2].set_title('Youtube videos watched')\n",
    "ax[2].set_ylabel('Youtube watches daily mean')\n",
    "plt.show()"
   ]
  },
  {
   "cell_type": "code",
   "execution_count": 13,
   "metadata": {},
   "outputs": [
    {
     "name": "stdout",
     "output_type": "stream",
     "text": [
      "4.191483275961537\n"
     ]
    }
   ],
   "source": [
    "# let's see the graphs divided by periods\n",
    "\n",
    "x_plot = [first_labour, first_weekend, second_labour, second_weekend, third_labour, third_weekend]\n",
    "y_plot = ['distance', 'distance_per_step', 'Watched']\n",
    "\n",
    "\n",
    "print(np.mean(x_plot[2*(1%3)][y_plot[int(1/3)]]))\n"
   ]
  },
  {
   "cell_type": "code",
   "execution_count": 35,
   "metadata": {},
   "outputs": [
    {
     "data": {
      "image/png": "[encoded data removed]",
      "text/plain": [
       "<Figure size 1080x1440 with 9 Axes>"
      ]
     },
     "metadata": {
      "needs_background": "light"
     },
     "output_type": "display_data"
    }
   ],
   "source": [
    "fig2,ax2 = plt.subplots(3,3, figsize = (15,20))\n",
    "\n",
    "for y in range(3):\n",
    "    for x in range(3):\n",
    "        ax2[y,x].bar(['Labour', 'Weekend'],\n",
    "                     [np.mean(x_plot[2*(x)][y_plot[y]]),\n",
    "                      np.mean(x_plot[2*(x)+1][y_plot[y]])])\n",
    "        result = spicy.ttest_ind(x_plot[2*x][y_plot[y]], x_plot[2*x+1][y_plot[y]], equal_var=False,  nan_policy = 'omit')\n",
    "        ax2[y,x].set_xlabel('p-value: {}'.format(round(float(result.pvalue),5)))\n",
    "        if y == 0:\n",
    "            ax2[y,x].set_ylim(0,8)\n",
    "        elif y ==1:\n",
    "            ax2[y,x].set_ylim(0.5,0.7)\n",
    "        else:\n",
    "            ax2[y,x].set_ylim(0,22.5)\n",
    "        \n",
    "                "
   ]
  },
  {
   "cell_type": "code",
   "execution_count": 29,
   "metadata": {},
   "outputs": [
    {
     "name": "stdout",
     "output_type": "stream",
     "text": [
      "the pvalue for the graph (1,1) is 5.030558813254936e-05\n",
      "the pvalue for the graph (2,1) is 2.4085680744585626e-09\n",
      "the pvalue for the graph (3,1) is 0.001794135787831758\n",
      "the pvalue for the graph (1,2) is 5.705275719097172e-19\n",
      "the pvalue for the graph (2,2) is 0.017965384347529843\n",
      "the pvalue for the graph (3,2) is 0.5678182128234719\n",
      "the pvalue for the graph (1,3) is 2.5326502686645057e-19\n",
      "the pvalue for the graph (2,3) is 5.755239446001967e-05\n",
      "the pvalue for the graph (3,3) is 1.8896512953026287e-06\n"
     ]
    }
   ],
   "source": [
    "# let's check first the significance labour-weekend for each of the 9 pairs:\n",
    "\n",
    "for y in range(3):\n",
    "    for x in range(3):\n",
    "        result = spicy.ttest_ind(x_plot[2*x][y_plot[y]], x_plot[2*x+1][y_plot[y]], equal_var=False,  nan_policy = 'omit')\n",
    "        print('the pvalue for the graph ({},{}) is {}'.format(x+1,y+1,result.pvalue))"
   ]
  },
  {
   "cell_type": "code",
   "execution_count": 38,
   "metadata": {},
   "outputs": [
    {
     "data": {
      "text/plain": [
       "' the differences in all graphs are statistically significant except the length of the steps'"
      ]
     },
     "execution_count": 38,
     "metadata": {},
     "output_type": "execute_result"
    }
   ],
   "source": [
    "''' the differences in all graphs are statistically significant except the length of the steps'''"
   ]
  },
  {
   "cell_type": "code",
   "execution_count": 52,
   "metadata": {},
   "outputs": [],
   "source": [
    "def get_pvalue(x,y):\n",
    "    return spicy.ttest_ind(x, y, equal_var=False,  nan_policy = 'omit').pvalue\n",
    "    "
   ]
  },
  {
   "cell_type": "code",
   "execution_count": 55,
   "metadata": {},
   "outputs": [
    {
     "name": "stdout",
     "output_type": "stream",
     "text": [
      "0.5525666113602583\n",
      "0.3631195515124199\n",
      "0.12672370999836421\n"
     ]
    }
   ],
   "source": [
    "# test samples for distance walked in labour days\n",
    "print(get_pvalue(first_labour['distance'],second_labour['distance']))\n",
    "print(get_pvalue(second_labour['distance'],third_labour['distance']))\n",
    "print(get_pvalue(third_labour['distance'],first_labour['distance']))"
   ]
  },
  {
   "cell_type": "code",
   "execution_count": 56,
   "metadata": {},
   "outputs": [
    {
     "name": "stdout",
     "output_type": "stream",
     "text": [
      "0.018034102863985265\n",
      "0.011310079459051738\n",
      "0.5832146522553132\n"
     ]
    }
   ],
   "source": [
    "# test samples for distance walked in weekend days\n",
    "print(get_pvalue(first_weekend['distance'],second_weekend['distance']))\n",
    "print(get_pvalue(second_weekend['distance'],third_weekend['distance']))\n",
    "print(get_pvalue(third_weekend['distance'],first_weekend['distance']))"
   ]
  },
  {
   "cell_type": "code",
   "execution_count": 57,
   "metadata": {},
   "outputs": [
    {
     "name": "stdout",
     "output_type": "stream",
     "text": [
      "1.2698337563222336e-08\n",
      "0.0019395148923535888\n",
      "5.99435192731632e-17\n"
     ]
    }
   ],
   "source": [
    "# test samples for step distance in labour days\n",
    "print(get_pvalue(first_labour['distance_per_step'],second_labour['distance_per_step']))\n",
    "print(get_pvalue(second_labour['distance_per_step'],third_labour['distance_per_step']))\n",
    "print(get_pvalue(third_labour['distance_per_step'],first_labour['distance_per_step']))"
   ]
  },
  {
   "cell_type": "code",
   "execution_count": 58,
   "metadata": {},
   "outputs": [
    {
     "name": "stdout",
     "output_type": "stream",
     "text": [
      "0.40551789581255926\n",
      "0.8400024007064977\n",
      "0.6030644162664154\n"
     ]
    }
   ],
   "source": [
    "# test samples for step distance in weekend days\n",
    "print(get_pvalue(first_weekend['distance_per_step'],second_weekend['distance_per_step']))\n",
    "print(get_pvalue(second_weekend['distance_per_step'],third_weekend['distance_per_step']))\n",
    "print(get_pvalue(third_weekend['distance_per_step'],first_weekend['distance_per_step']))"
   ]
  },
  {
   "cell_type": "code",
   "execution_count": 59,
   "metadata": {},
   "outputs": [
    {
     "name": "stdout",
     "output_type": "stream",
     "text": [
      "0.12856715517287465\n",
      "3.878397299980514e-05\n",
      "0.002189123149344528\n"
     ]
    }
   ],
   "source": [
    "# test samples for videos watched in labour days\n",
    "print(get_pvalue(first_labour['Watched'],second_labour['Watched']))\n",
    "print(get_pvalue(second_labour['Watched'],third_labour['Watched']))\n",
    "print(get_pvalue(third_labour['Watched'],first_labour['Watched']))"
   ]
  },
  {
   "cell_type": "code",
   "execution_count": 60,
   "metadata": {},
   "outputs": [
    {
     "name": "stdout",
     "output_type": "stream",
     "text": [
      "0.0010399100322731965\n",
      "0.006834242880352032\n",
      "0.4822602505109118\n"
     ]
    }
   ],
   "source": [
    "# test samples for videos watched in weekend days\n",
    "print(get_pvalue(first_weekend['Watched'],second_weekend['Watched']))\n",
    "print(get_pvalue(second_weekend['Watched'],third_weekend['Watched']))\n",
    "print(get_pvalue(third_weekend['Watched'],first_weekend['Watched']))"
   ]
  },
  {
   "cell_type": "code",
   "execution_count": null,
   "metadata": {},
   "outputs": [],
   "source": []
  }
 ],
 "metadata": {
  "kernelspec": {
   "display_name": "Python 3",
   "language": "python",
   "name": "python3"
  },
  "language_info": {
   "codemirror_mode": {
    "name": "ipython",
    "version": 3
   },
   "file_extension": ".py",
   "mimetype": "text/x-python",
   "name": "python",
   "nbconvert_exporter": "python",
   "pygments_lexer": "ipython3",
   "version": "3.7.6"
  }
 },
 "nbformat": 4,
 "nbformat_minor": 4
}
