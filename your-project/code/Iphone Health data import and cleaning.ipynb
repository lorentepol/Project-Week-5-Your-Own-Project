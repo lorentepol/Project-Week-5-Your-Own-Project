{
 "cells": [
  {
   "cell_type": "code",
   "execution_count": 1,
   "metadata": {},
   "outputs": [],
   "source": [
    "import xml.etree.ElementTree as et\n",
    "import re\n",
    "import pandas as pd\n",
    "import dateutil\n",
    "import datetime"
   ]
  },
  {
   "cell_type": "code",
   "execution_count": 2,
   "metadata": {},
   "outputs": [],
   "source": [
    "# parsing the xml file\n",
    "xtree = et.parse(\"../data/Iphone_health/apple_health_export/exportar.xml\")\n",
    "xroot = xtree.getroot()"
   ]
  },
  {
   "cell_type": "code",
   "execution_count": 3,
   "metadata": {},
   "outputs": [],
   "source": [
    "#Obtention of a dataframe from XML parsed\n",
    "\n",
    "df_cols = ['type', 'sourceName', 'sourceVersion', 'device', 'unit', 'creationDate', \n",
    "           'startDate', 'endDate', 'value']\n",
    "rows = []\n",
    "for node in xroot:\n",
    "    if node.tag == 'Record':\n",
    "        type_data = node.attrib.get('type')\n",
    "        sourceName = node.attrib.get('sourceName')\n",
    "        sourceVersion = node.attrib.get('sourceVersion')\n",
    "        deviceName = re.findall(r'name:(\\w+)',node.attrib.get('device'))[0]\n",
    "        unit = node.attrib.get('unit')\n",
    "        creationDate = node.attrib.get('creationDate')\n",
    "        startDate = node.attrib.get('startDate')\n",
    "        endDate = node.attrib.get('endDate')\n",
    "        value = node.attrib.get('value')\n",
    "        rows.append({'type': type_data, \n",
    "                     'sourceName': sourceName,\n",
    "                     'sourceVersion': sourceVersion,\n",
    "                     'device': deviceName,\n",
    "                     'unit': unit, \n",
    "                     'creationDate': creationDate, \n",
    "                     'startDate': startDate, \n",
    "                     'endDate': endDate, \n",
    "                     'value': value})\n",
    "\n",
    "health_df = pd.DataFrame(rows, columns = df_cols)"
   ]
  },
  {
   "cell_type": "code",
   "execution_count": 4,
   "metadata": {},
   "outputs": [],
   "source": [
    "# Regex to extract just the type of the type column\n",
    "health_df['type'] = health_df['type'].apply(lambda string: re.findall(r'Identifier(\\w+)', string)[0])"
   ]
  },
  {
   "cell_type": "code",
   "execution_count": 5,
   "metadata": {
    "scrolled": true
   },
   "outputs": [
    {
     "data": {
      "text/plain": [
       "StepCount                 34480\n",
       "DistanceWalkingRunning    34470\n",
       "FlightsClimbed             6156\n",
       "HeadphoneAudioExposure     1640\n",
       "SleepAnalysis              1248\n",
       "Name: type, dtype: int64"
      ]
     },
     "execution_count": 5,
     "metadata": {},
     "output_type": "execute_result"
    }
   ],
   "source": [
    "health_df['type'].value_counts()"
   ]
  },
  {
   "cell_type": "code",
   "execution_count": 6,
   "metadata": {},
   "outputs": [],
   "source": [
    "health_df['creationDate'] = health_df['creationDate'].apply(dateutil.parser.parse)\n",
    "health_df['startDate'] = health_df['startDate'].apply(dateutil.parser.parse)\n",
    "health_df['endDate'] = health_df['endDate'].apply(dateutil.parser.parse)"
   ]
  },
  {
   "cell_type": "code",
   "execution_count": 7,
   "metadata": {},
   "outputs": [],
   "source": [
    "# split the dataframe into the things we want\n",
    "audio_exposure_df = health_df[health_df['type'] =='HeadphoneAudioExposure'][['sourceName', 'sourceVersion', 'device', 'unit', 'creationDate', \n",
    "           'startDate', 'endDate', 'value']].reset_index(drop=True)\n",
    "sleep_df = health_df[health_df['type'] =='SleepAnalysis'][['sourceName', 'device', 'creationDate', \n",
    "           'startDate', 'endDate']].reset_index(drop=True)\n",
    "exercise_df = health_df[health_df['type'].isin(['StepCount','DistanceWalkingRunning', 'FlightsClimbed'])].sort_values('startDate').reset_index(drop=True)"
   ]
  },
  {
   "cell_type": "code",
   "execution_count": 8,
   "metadata": {
    "scrolled": true
   },
   "outputs": [
    {
     "data": {
      "text/html": [
       "<div>\n",
       "<style scoped>\n",
       "    .dataframe tbody tr th:only-of-type {\n",
       "        vertical-align: middle;\n",
       "    }\n",
       "\n",
       "    .dataframe tbody tr th {\n",
       "        vertical-align: top;\n",
       "    }\n",
       "\n",
       "    .dataframe thead th {\n",
       "        text-align: right;\n",
       "    }\n",
       "</style>\n",
       "<table border=\"1\" class=\"dataframe\">\n",
       "  <thead>\n",
       "    <tr style=\"text-align: right;\">\n",
       "      <th></th>\n",
       "      <th>sourceName</th>\n",
       "      <th>sourceVersion</th>\n",
       "      <th>device</th>\n",
       "      <th>unit</th>\n",
       "      <th>creationDate</th>\n",
       "      <th>startDate</th>\n",
       "      <th>endDate</th>\n",
       "      <th>value</th>\n",
       "    </tr>\n",
       "  </thead>\n",
       "  <tbody>\n",
       "    <tr>\n",
       "      <th>0</th>\n",
       "      <td>iPhone de: Pol</td>\n",
       "      <td>13.3</td>\n",
       "      <td>AirPods</td>\n",
       "      <td>dBASPL</td>\n",
       "      <td>2019-12-27 13:02:08+02:00</td>\n",
       "      <td>2019-12-27 12:51:07+02:00</td>\n",
       "      <td>2019-12-27 13:06:25+02:00</td>\n",
       "      <td>69.0332</td>\n",
       "    </tr>\n",
       "    <tr>\n",
       "      <th>1</th>\n",
       "      <td>iPhone de: Pol</td>\n",
       "      <td>13.3</td>\n",
       "      <td>AirPods</td>\n",
       "      <td>dBASPL</td>\n",
       "      <td>2019-12-27 13:07:20+02:00</td>\n",
       "      <td>2019-12-27 13:06:25+02:00</td>\n",
       "      <td>2019-12-27 13:07:19+02:00</td>\n",
       "      <td>62.2285</td>\n",
       "    </tr>\n",
       "    <tr>\n",
       "      <th>2</th>\n",
       "      <td>iPhone de: Pol</td>\n",
       "      <td>13.3</td>\n",
       "      <td>AirPods</td>\n",
       "      <td>dBASPL</td>\n",
       "      <td>2019-12-27 21:08:06+02:00</td>\n",
       "      <td>2019-12-27 21:03:57+02:00</td>\n",
       "      <td>2019-12-27 21:08:02+02:00</td>\n",
       "      <td>70.9675</td>\n",
       "    </tr>\n",
       "    <tr>\n",
       "      <th>3</th>\n",
       "      <td>iPhone de: Pol</td>\n",
       "      <td>13.3</td>\n",
       "      <td>AirPods</td>\n",
       "      <td>dBASPL</td>\n",
       "      <td>2019-12-27 21:08:06+02:00</td>\n",
       "      <td>2019-12-27 21:08:02+02:00</td>\n",
       "      <td>2019-12-27 21:08:05+02:00</td>\n",
       "      <td>76.4604</td>\n",
       "    </tr>\n",
       "    <tr>\n",
       "      <th>4</th>\n",
       "      <td>iPhone de: Pol</td>\n",
       "      <td>13.3</td>\n",
       "      <td>AirPods</td>\n",
       "      <td>dBASPL</td>\n",
       "      <td>2019-12-28 18:43:52+02:00</td>\n",
       "      <td>2019-12-28 18:39:22+02:00</td>\n",
       "      <td>2019-12-28 18:43:45+02:00</td>\n",
       "      <td>66.7052</td>\n",
       "    </tr>\n",
       "    <tr>\n",
       "      <th>...</th>\n",
       "      <td>...</td>\n",
       "      <td>...</td>\n",
       "      <td>...</td>\n",
       "      <td>...</td>\n",
       "      <td>...</td>\n",
       "      <td>...</td>\n",
       "      <td>...</td>\n",
       "      <td>...</td>\n",
       "    </tr>\n",
       "    <tr>\n",
       "      <th>1635</th>\n",
       "      <td>iPhone de: Pol</td>\n",
       "      <td>13.3</td>\n",
       "      <td>AirPods</td>\n",
       "      <td>dBASPL</td>\n",
       "      <td>2020-07-15 15:18:20+02:00</td>\n",
       "      <td>2020-07-15 15:18:15+02:00</td>\n",
       "      <td>2020-07-15 15:18:18+02:00</td>\n",
       "      <td>46.1822</td>\n",
       "    </tr>\n",
       "    <tr>\n",
       "      <th>1636</th>\n",
       "      <td>iPhone de: Pol</td>\n",
       "      <td>13.3</td>\n",
       "      <td>EarPods</td>\n",
       "      <td>dBASPL</td>\n",
       "      <td>2020-07-21 20:55:57+02:00</td>\n",
       "      <td>2020-07-21 20:55:31+02:00</td>\n",
       "      <td>2020-07-21 20:55:34+02:00</td>\n",
       "      <td>24.9614</td>\n",
       "    </tr>\n",
       "    <tr>\n",
       "      <th>1637</th>\n",
       "      <td>iPhone de: Pol</td>\n",
       "      <td>13.3</td>\n",
       "      <td>EarPods</td>\n",
       "      <td>dBASPL</td>\n",
       "      <td>2020-07-21 23:25:25+02:00</td>\n",
       "      <td>2020-07-21 23:14:24+02:00</td>\n",
       "      <td>2020-07-21 23:19:00+02:00</td>\n",
       "      <td>52.9766</td>\n",
       "    </tr>\n",
       "    <tr>\n",
       "      <th>1638</th>\n",
       "      <td>iPhone de: Pol</td>\n",
       "      <td>13.3</td>\n",
       "      <td>EarPods</td>\n",
       "      <td>dBASPL</td>\n",
       "      <td>2020-07-21 23:39:02+02:00</td>\n",
       "      <td>2020-07-21 23:29:59+02:00</td>\n",
       "      <td>2020-07-21 23:30:02+02:00</td>\n",
       "      <td>45.9645</td>\n",
       "    </tr>\n",
       "    <tr>\n",
       "      <th>1639</th>\n",
       "      <td>iPhone de: Pol</td>\n",
       "      <td>13.3</td>\n",
       "      <td>EarPods</td>\n",
       "      <td>dBASPL</td>\n",
       "      <td>2020-07-21 23:39:02+02:00</td>\n",
       "      <td>2020-07-21 23:34:01+02:00</td>\n",
       "      <td>2020-07-21 23:34:04+02:00</td>\n",
       "      <td>36.9013</td>\n",
       "    </tr>\n",
       "  </tbody>\n",
       "</table>\n",
       "<p>1640 rows × 8 columns</p>\n",
       "</div>"
      ],
      "text/plain": [
       "          sourceName sourceVersion   device    unit              creationDate  \\\n",
       "0     iPhone de: Pol          13.3  AirPods  dBASPL 2019-12-27 13:02:08+02:00   \n",
       "1     iPhone de: Pol          13.3  AirPods  dBASPL 2019-12-27 13:07:20+02:00   \n",
       "2     iPhone de: Pol          13.3  AirPods  dBASPL 2019-12-27 21:08:06+02:00   \n",
       "3     iPhone de: Pol          13.3  AirPods  dBASPL 2019-12-27 21:08:06+02:00   \n",
       "4     iPhone de: Pol          13.3  AirPods  dBASPL 2019-12-28 18:43:52+02:00   \n",
       "...              ...           ...      ...     ...                       ...   \n",
       "1635  iPhone de: Pol          13.3  AirPods  dBASPL 2020-07-15 15:18:20+02:00   \n",
       "1636  iPhone de: Pol          13.3  EarPods  dBASPL 2020-07-21 20:55:57+02:00   \n",
       "1637  iPhone de: Pol          13.3  EarPods  dBASPL 2020-07-21 23:25:25+02:00   \n",
       "1638  iPhone de: Pol          13.3  EarPods  dBASPL 2020-07-21 23:39:02+02:00   \n",
       "1639  iPhone de: Pol          13.3  EarPods  dBASPL 2020-07-21 23:39:02+02:00   \n",
       "\n",
       "                     startDate                   endDate    value  \n",
       "0    2019-12-27 12:51:07+02:00 2019-12-27 13:06:25+02:00  69.0332  \n",
       "1    2019-12-27 13:06:25+02:00 2019-12-27 13:07:19+02:00  62.2285  \n",
       "2    2019-12-27 21:03:57+02:00 2019-12-27 21:08:02+02:00  70.9675  \n",
       "3    2019-12-27 21:08:02+02:00 2019-12-27 21:08:05+02:00  76.4604  \n",
       "4    2019-12-28 18:39:22+02:00 2019-12-28 18:43:45+02:00  66.7052  \n",
       "...                        ...                       ...      ...  \n",
       "1635 2020-07-15 15:18:15+02:00 2020-07-15 15:18:18+02:00  46.1822  \n",
       "1636 2020-07-21 20:55:31+02:00 2020-07-21 20:55:34+02:00  24.9614  \n",
       "1637 2020-07-21 23:14:24+02:00 2020-07-21 23:19:00+02:00  52.9766  \n",
       "1638 2020-07-21 23:29:59+02:00 2020-07-21 23:30:02+02:00  45.9645  \n",
       "1639 2020-07-21 23:34:01+02:00 2020-07-21 23:34:04+02:00  36.9013  \n",
       "\n",
       "[1640 rows x 8 columns]"
      ]
     },
     "execution_count": 8,
     "metadata": {},
     "output_type": "execute_result"
    }
   ],
   "source": [
    "audio_exposure_df"
   ]
  },
  {
   "cell_type": "code",
   "execution_count": 9,
   "metadata": {
    "scrolled": false
   },
   "outputs": [],
   "source": [
    "audio_exposure_df['value'] = audio_exposure_df['value'].astype(float)\n",
    "exercise_df['value'] = exercise_df['value'].astype(float)"
   ]
  },
  {
   "cell_type": "code",
   "execution_count": 10,
   "metadata": {
    "scrolled": true
   },
   "outputs": [],
   "source": [
    "exercise_df.rename(columns={'creationDate': 'creationDatetime', 'startDate': 'startDatetime', 'endDate': 'endDatetime'},inplace=True)\n",
    "sleep_df.rename(columns={'creationDate': 'creationDatetime', 'startDate': 'startDatetime', 'endDate': 'endDatetime'},inplace=True)"
   ]
  },
  {
   "cell_type": "code",
   "execution_count": 11,
   "metadata": {},
   "outputs": [
    {
     "name": "stderr",
     "output_type": "stream",
     "text": [
      "C:\\Users\\Pol\\anaconda3\\lib\\site-packages\\ipykernel_launcher.py:2: SettingWithCopyWarning: \n",
      "A value is trying to be set on a copy of a slice from a DataFrame.\n",
      "Try using .loc[row_indexer,col_indexer] = value instead\n",
      "\n",
      "See the caveats in the documentation: https://pandas.pydata.org/pandas-docs/stable/user_guide/indexing.html#returning-a-view-versus-a-copy\n",
      "  \n",
      "C:\\Users\\Pol\\anaconda3\\lib\\site-packages\\ipykernel_launcher.py:3: SettingWithCopyWarning: \n",
      "A value is trying to be set on a copy of a slice from a DataFrame.\n",
      "Try using .loc[row_indexer,col_indexer] = value instead\n",
      "\n",
      "See the caveats in the documentation: https://pandas.pydata.org/pandas-docs/stable/user_guide/indexing.html#returning-a-view-versus-a-copy\n",
      "  This is separate from the ipykernel package so we can avoid doing imports until\n"
     ]
    }
   ],
   "source": [
    "exercise_by_day = exercise_df[['type', 'creationDatetime', 'startDatetime', 'endDatetime', 'value']]\n",
    "exercise_by_day['duration'] = exercise_by_day['endDatetime'] - exercise_by_day['startDatetime']\n",
    "exercise_by_day['date'] = exercise_by_day['startDatetime'].dt.date\n",
    "\n",
    "sleep_df = sleep_df[['creationDatetime', 'startDatetime', 'endDatetime']]\n",
    "sleep_df['duration'] = sleep_df['endDatetime'] - sleep_df['startDatetime']\n",
    "sleep_df['date'] = sleep_df['startDatetime'].dt.date"
   ]
  },
  {
   "cell_type": "code",
   "execution_count": 14,
   "metadata": {
    "scrolled": true
   },
   "outputs": [],
   "source": [
    "exercise_by_day = exercise_by_day[['date', 'type', 'value', 'duration']].groupby(['type', 'date']).sum(numeric_only=False).reset_index()\n",
    "sleep_by_day = sleep_df.groupby('date')['duration'].sum(numeric_only=False).reset_index()"
   ]
  },
  {
   "cell_type": "code",
   "execution_count": 15,
   "metadata": {},
   "outputs": [],
   "source": [
    "exercise_by_day = exercise_by_day.pivot( index = 'date', columns = 'type').reset_index()"
   ]
  },
  {
   "cell_type": "code",
   "execution_count": 16,
   "metadata": {},
   "outputs": [],
   "source": [
    "exercise_by_day.columns = ['date', 'distance', 'flightsClimbed', 'steps', 'durationDistance', 'durationFlights', 'durationSteps']"
   ]
  },
  {
   "cell_type": "code",
   "execution_count": 17,
   "metadata": {},
   "outputs": [
    {
     "name": "stdout",
     "output_type": "stream",
     "text": [
      "<class 'pandas.core.frame.DataFrame'>\n",
      "RangeIndex: 984 entries, 0 to 983\n",
      "Data columns (total 7 columns):\n",
      " #   Column            Non-Null Count  Dtype          \n",
      "---  ------            --------------  -----          \n",
      " 0   date              984 non-null    datetime64[ns] \n",
      " 1   distance          969 non-null    float64        \n",
      " 2   flightsClimbed    890 non-null    float64        \n",
      " 3   steps             969 non-null    float64        \n",
      " 4   durationDistance  969 non-null    timedelta64[ns]\n",
      " 5   durationFlights   890 non-null    timedelta64[ns]\n",
      " 6   durationSteps     969 non-null    timedelta64[ns]\n",
      "dtypes: datetime64[ns](1), float64(3), timedelta64[ns](3)\n",
      "memory usage: 53.9 KB\n"
     ]
    }
   ],
   "source": [
    "exercise_by_day.info()"
   ]
  },
  {
   "cell_type": "code",
   "execution_count": 18,
   "metadata": {
    "scrolled": true
   },
   "outputs": [
    {
     "data": {
      "text/html": [
       "<div>\n",
       "<style scoped>\n",
       "    .dataframe tbody tr th:only-of-type {\n",
       "        vertical-align: middle;\n",
       "    }\n",
       "\n",
       "    .dataframe tbody tr th {\n",
       "        vertical-align: top;\n",
       "    }\n",
       "\n",
       "    .dataframe thead th {\n",
       "        text-align: right;\n",
       "    }\n",
       "</style>\n",
       "<table border=\"1\" class=\"dataframe\">\n",
       "  <thead>\n",
       "    <tr style=\"text-align: right;\">\n",
       "      <th></th>\n",
       "      <th>date</th>\n",
       "      <th>distance</th>\n",
       "      <th>flightsClimbed</th>\n",
       "      <th>steps</th>\n",
       "      <th>durationDistance</th>\n",
       "      <th>durationFlights</th>\n",
       "      <th>durationSteps</th>\n",
       "    </tr>\n",
       "  </thead>\n",
       "  <tbody>\n",
       "    <tr>\n",
       "      <th>351</th>\n",
       "      <td>2018-10-21</td>\n",
       "      <td>NaN</td>\n",
       "      <td>9.0</td>\n",
       "      <td>NaN</td>\n",
       "      <td>NaT</td>\n",
       "      <td>00:19:56</td>\n",
       "      <td>NaT</td>\n",
       "    </tr>\n",
       "  </tbody>\n",
       "</table>\n",
       "</div>"
      ],
      "text/plain": [
       "          date  distance  flightsClimbed  steps durationDistance  \\\n",
       "351 2018-10-21       NaN             9.0    NaN              NaT   \n",
       "\n",
       "    durationFlights durationSteps  \n",
       "351        00:19:56           NaT  "
      ]
     },
     "execution_count": 18,
     "metadata": {},
     "output_type": "execute_result"
    }
   ],
   "source": [
    "exercise_by_day[exercise_by_day['date'].apply(lambda x : datetime.datetime.strftime(x, \"%Y-%m-%d\")) == '2018-10-21']"
   ]
  },
  {
   "cell_type": "code",
   "execution_count": 19,
   "metadata": {},
   "outputs": [],
   "source": [
    "audio_exposure_df.to_csv('../data/audio_exposure.csv', sep=';', decimal=',')\n",
    "sleep_df.to_csv('../data/sleep.csv', sep=';', decimal=',')\n",
    "sleep_by_day.to_csv('../data/sleep_by_day.csv', sep=';', decimal=',')\n",
    "exercise_df.to_csv('../data/exercise.csv', sep=';', decimal=',')\n",
    "exercise_by_day.to_csv('../data/exercise_summary_day.csv', sep=';', decimal=',')"
   ]
  },
  {
   "cell_type": "code",
   "execution_count": null,
   "metadata": {},
   "outputs": [],
   "source": []
  }
 ],
 "metadata": {
  "kernelspec": {
   "display_name": "Python 3",
   "language": "python",
   "name": "python3"
  },
  "language_info": {
   "codemirror_mode": {
    "name": "ipython",
    "version": 3
   },
   "file_extension": ".py",
   "mimetype": "text/x-python",
   "name": "python",
   "nbconvert_exporter": "python",
   "pygments_lexer": "ipython3",
   "version": "3.7.6"
  }
 },
 "nbformat": 4,
 "nbformat_minor": 4
}
