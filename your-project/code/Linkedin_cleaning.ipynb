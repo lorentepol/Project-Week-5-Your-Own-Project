{
 "cells": [
  {
   "cell_type": "code",
   "execution_count": 9,
   "metadata": {},
   "outputs": [],
   "source": [
    "import pandas as pd\n",
    "from datetime import datetime as dt"
   ]
  },
  {
   "cell_type": "code",
   "execution_count": 4,
   "metadata": {},
   "outputs": [
    {
     "data": {
      "text/html": [
       "<div>\n",
       "<style scoped>\n",
       "    .dataframe tbody tr th:only-of-type {\n",
       "        vertical-align: middle;\n",
       "    }\n",
       "\n",
       "    .dataframe tbody tr th {\n",
       "        vertical-align: top;\n",
       "    }\n",
       "\n",
       "    .dataframe thead th {\n",
       "        text-align: right;\n",
       "    }\n",
       "</style>\n",
       "<table border=\"1\" class=\"dataframe\">\n",
       "  <thead>\n",
       "    <tr style=\"text-align: right;\">\n",
       "      <th></th>\n",
       "      <th>Application Date</th>\n",
       "      <th>Job Url</th>\n",
       "      <th>Job Title</th>\n",
       "      <th>Company Name</th>\n",
       "      <th>Contact Email</th>\n",
       "      <th>Contact Phone Number</th>\n",
       "      <th>Resume Name</th>\n",
       "    </tr>\n",
       "  </thead>\n",
       "  <tbody>\n",
       "    <tr>\n",
       "      <th>0</th>\n",
       "      <td>5/6/20, 10:44 AM</td>\n",
       "      <td>http://www.linkedin.com/jobs/view/1747536324</td>\n",
       "      <td>Data Analyst (SQL)</td>\n",
       "      <td>Innova-tsn</td>\n",
       "      <td>lorentepol@gmail.com</td>\n",
       "      <td>+34638453534</td>\n",
       "      <td>PolLorente_2020.pdf</td>\n",
       "    </tr>\n",
       "    <tr>\n",
       "      <th>1</th>\n",
       "      <td>5/4/20, 11:35 AM</td>\n",
       "      <td>http://www.linkedin.com/jobs/view/1831789921</td>\n",
       "      <td>Business analyst</td>\n",
       "      <td>SQLI</td>\n",
       "      <td>lorentepol@gmail.com</td>\n",
       "      <td>+34638453534</td>\n",
       "      <td>PolLorente_2020.pdf</td>\n",
       "    </tr>\n",
       "    <tr>\n",
       "      <th>2</th>\n",
       "      <td>5/4/20, 11:21 AM</td>\n",
       "      <td>http://www.linkedin.com/jobs/view/1826234759</td>\n",
       "      <td>Junior Controller</td>\n",
       "      <td>Claire Joster</td>\n",
       "      <td>lorentepol@gmail.com</td>\n",
       "      <td>+34638453534</td>\n",
       "      <td>PolLorente_2020.pdf</td>\n",
       "    </tr>\n",
       "    <tr>\n",
       "      <th>3</th>\n",
       "      <td>5/2/20, 9:16 AM</td>\n",
       "      <td>http://www.linkedin.com/jobs/view/1838883689</td>\n",
       "      <td>Business Strategy Analyst</td>\n",
       "      <td>Scopely</td>\n",
       "      <td>lorentepol@gmail.com</td>\n",
       "      <td>+34638453534</td>\n",
       "      <td>PolLorente_2020.pdf</td>\n",
       "    </tr>\n",
       "    <tr>\n",
       "      <th>4</th>\n",
       "      <td>4/29/20, 4:57 AM</td>\n",
       "      <td>http://www.linkedin.com/jobs/view/1822849090</td>\n",
       "      <td>Junior Data Analyst</td>\n",
       "      <td>Citibeats</td>\n",
       "      <td>lorentepol@gmail.com</td>\n",
       "      <td>+34638453534</td>\n",
       "      <td>PolLorente_2020.pdf</td>\n",
       "    </tr>\n",
       "    <tr>\n",
       "      <th>...</th>\n",
       "      <td>...</td>\n",
       "      <td>...</td>\n",
       "      <td>...</td>\n",
       "      <td>...</td>\n",
       "      <td>...</td>\n",
       "      <td>...</td>\n",
       "      <td>...</td>\n",
       "    </tr>\n",
       "    <tr>\n",
       "      <th>159</th>\n",
       "      <td>10/9/17, 1:09 PM</td>\n",
       "      <td>http://www.linkedin.com/jobs/view/461267989</td>\n",
       "      <td>Business Controller</td>\n",
       "      <td>MANGO</td>\n",
       "      <td>lorentepol@gmail.com</td>\n",
       "      <td>638453534</td>\n",
       "      <td>CV_PolLorente.pdf</td>\n",
       "    </tr>\n",
       "    <tr>\n",
       "      <th>160</th>\n",
       "      <td>10/6/17, 9:53 AM</td>\n",
       "      <td>http://www.linkedin.com/jobs/view/414946887</td>\n",
       "      <td>Portfolio and Financial Controller</td>\n",
       "      <td>Nauta Capital</td>\n",
       "      <td>lorentepol@gmail.com</td>\n",
       "      <td>638453534</td>\n",
       "      <td>CV_PolLorente.pdf</td>\n",
       "    </tr>\n",
       "    <tr>\n",
       "      <th>161</th>\n",
       "      <td>10/6/17, 9:52 AM</td>\n",
       "      <td>http://www.linkedin.com/jobs/view/414946563</td>\n",
       "      <td>Junior Financial Analyst</td>\n",
       "      <td>Cushman &amp; Wakefield</td>\n",
       "      <td>lorentepol@gmail.com</td>\n",
       "      <td>638453534</td>\n",
       "      <td>CV_PolLorente.pdf</td>\n",
       "    </tr>\n",
       "    <tr>\n",
       "      <th>162</th>\n",
       "      <td>10/6/17, 9:51 AM</td>\n",
       "      <td>http://www.linkedin.com/jobs/view/462225407</td>\n",
       "      <td>Junior Financial Controller</td>\n",
       "      <td>Catalonia Hotels &amp; Resorts</td>\n",
       "      <td>lorentepol@gmail.com</td>\n",
       "      <td>638453534</td>\n",
       "      <td>CV_PolLorente.pdf</td>\n",
       "    </tr>\n",
       "    <tr>\n",
       "      <th>163</th>\n",
       "      <td>10/6/17, 9:50 AM</td>\n",
       "      <td>http://www.linkedin.com/jobs/view/423671101</td>\n",
       "      <td>financial controller</td>\n",
       "      <td>Vueling Airlines</td>\n",
       "      <td>lorentepol@gmail.com</td>\n",
       "      <td>638453534</td>\n",
       "      <td>CV_PolLorente.pdf</td>\n",
       "    </tr>\n",
       "  </tbody>\n",
       "</table>\n",
       "<p>164 rows × 7 columns</p>\n",
       "</div>"
      ],
      "text/plain": [
       "     Application Date                                       Job Url  \\\n",
       "0    5/6/20, 10:44 AM  http://www.linkedin.com/jobs/view/1747536324   \n",
       "1    5/4/20, 11:35 AM  http://www.linkedin.com/jobs/view/1831789921   \n",
       "2    5/4/20, 11:21 AM  http://www.linkedin.com/jobs/view/1826234759   \n",
       "3     5/2/20, 9:16 AM  http://www.linkedin.com/jobs/view/1838883689   \n",
       "4    4/29/20, 4:57 AM  http://www.linkedin.com/jobs/view/1822849090   \n",
       "..                ...                                           ...   \n",
       "159  10/9/17, 1:09 PM   http://www.linkedin.com/jobs/view/461267989   \n",
       "160  10/6/17, 9:53 AM   http://www.linkedin.com/jobs/view/414946887   \n",
       "161  10/6/17, 9:52 AM   http://www.linkedin.com/jobs/view/414946563   \n",
       "162  10/6/17, 9:51 AM   http://www.linkedin.com/jobs/view/462225407   \n",
       "163  10/6/17, 9:50 AM   http://www.linkedin.com/jobs/view/423671101   \n",
       "\n",
       "                              Job Title                Company Name  \\\n",
       "0                    Data Analyst (SQL)                  Innova-tsn   \n",
       "1                      Business analyst                        SQLI   \n",
       "2                     Junior Controller               Claire Joster   \n",
       "3             Business Strategy Analyst                     Scopely   \n",
       "4                  Junior Data Analyst                    Citibeats   \n",
       "..                                  ...                         ...   \n",
       "159                 Business Controller                       MANGO   \n",
       "160  Portfolio and Financial Controller               Nauta Capital   \n",
       "161            Junior Financial Analyst         Cushman & Wakefield   \n",
       "162         Junior Financial Controller  Catalonia Hotels & Resorts   \n",
       "163                financial controller            Vueling Airlines   \n",
       "\n",
       "            Contact Email Contact Phone Number          Resume Name  \n",
       "0    lorentepol@gmail.com         +34638453534  PolLorente_2020.pdf  \n",
       "1    lorentepol@gmail.com         +34638453534  PolLorente_2020.pdf  \n",
       "2    lorentepol@gmail.com         +34638453534  PolLorente_2020.pdf  \n",
       "3    lorentepol@gmail.com         +34638453534  PolLorente_2020.pdf  \n",
       "4    lorentepol@gmail.com         +34638453534  PolLorente_2020.pdf  \n",
       "..                    ...                  ...                  ...  \n",
       "159  lorentepol@gmail.com            638453534    CV_PolLorente.pdf  \n",
       "160  lorentepol@gmail.com            638453534    CV_PolLorente.pdf  \n",
       "161  lorentepol@gmail.com            638453534    CV_PolLorente.pdf  \n",
       "162  lorentepol@gmail.com            638453534    CV_PolLorente.pdf  \n",
       "163  lorentepol@gmail.com            638453534    CV_PolLorente.pdf  \n",
       "\n",
       "[164 rows x 7 columns]"
      ]
     },
     "execution_count": 4,
     "metadata": {},
     "output_type": "execute_result"
    }
   ],
   "source": [
    "# read LinkedIn data\n",
    "\n",
    "linkedin = pd.read_csv('../data/linkedin_job_applications.csv')\n",
    "linkedin"
   ]
  },
  {
   "cell_type": "code",
   "execution_count": 6,
   "metadata": {},
   "outputs": [
    {
     "data": {
      "text/plain": [
       "'5/6/20, 10:44 AM'"
      ]
     },
     "execution_count": 6,
     "metadata": {},
     "output_type": "execute_result"
    }
   ],
   "source": [
    "linkedin['Application Date'][0]"
   ]
  },
  {
   "cell_type": "code",
   "execution_count": 18,
   "metadata": {},
   "outputs": [
    {
     "data": {
      "text/plain": [
       "datetime.datetime(2020, 5, 6, 0, 44)"
      ]
     },
     "execution_count": 18,
     "metadata": {},
     "output_type": "execute_result"
    }
   ],
   "source": [
    "dt.strptime('5/6/20, 12:44 AM', '%m/%d/%y, %I:%M %p')"
   ]
  },
  {
   "cell_type": "code",
   "execution_count": 23,
   "metadata": {},
   "outputs": [],
   "source": [
    "linkedin['date'] = linkedin['Application Date'].apply(lambda x: dt.strptime(x,'%m/%d/%y, %I:%M %p')).apply(lambda y: dt.strftime(y, '%d/%m/%Y'))"
   ]
  },
  {
   "cell_type": "code",
   "execution_count": 27,
   "metadata": {},
   "outputs": [],
   "source": [
    "linkedin_apps_by_day = linkedin.groupby('date')['Job Url'].count().reset_index()"
   ]
  },
  {
   "cell_type": "code",
   "execution_count": 28,
   "metadata": {},
   "outputs": [],
   "source": [
    "linkedin_apps_by_day.to_csv('../data/linkedIn_by_day.csv', sep=';', decimal=',')"
   ]
  },
  {
   "cell_type": "code",
   "execution_count": null,
   "metadata": {},
   "outputs": [],
   "source": []
  }
 ],
 "metadata": {
  "kernelspec": {
   "display_name": "Python 3",
   "language": "python",
   "name": "python3"
  },
  "language_info": {
   "codemirror_mode": {
    "name": "ipython",
    "version": 3
   },
   "file_extension": ".py",
   "mimetype": "text/x-python",
   "name": "python",
   "nbconvert_exporter": "python",
   "pygments_lexer": "ipython3",
   "version": "3.7.6"
  }
 },
 "nbformat": 4,
 "nbformat_minor": 4
}
